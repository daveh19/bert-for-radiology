{
 "cells": [
  {
   "cell_type": "markdown",
   "metadata": {},
   "source": [
    "# Generation of Annotations with BERT"
   ]
  },
  {
   "cell_type": "code",
   "execution_count": 1,
   "metadata": {},
   "outputs": [],
   "source": [
    "import pandas as pd\n",
    "from simpletransformers.classification import ClassificationModel, MultiLabelClassificationModel"
   ]
  },
  {
   "cell_type": "code",
   "execution_count": 5,
   "metadata": {},
   "outputs": [],
   "source": [
    "args={'output_dir': 'outputs/',\n",
    "      'cache_dir': 'cache_dir/',\n",
    "      'fp16': False,\n",
    "      'no_cache': True, \n",
    "      'fp16_opt_level': 'O1',\n",
    "      'max_seq_length': 512,           \n",
    "      'train_batch_size': 8,\n",
    "      'gradient_accumulation_steps': 10,\n",
    "      'eval_batch_size': 12,\n",
    "      'num_train_epochs': 10,          \n",
    "      'weight_decay': 0,\n",
    "      'learning_rate': 4e-5,\n",
    "      'adam_epsilon': 1e-8,\n",
    "      'warmup_ratio': 0.06,\n",
    "      'warmup_steps': 0,\n",
    "      'max_grad_norm': 1.0,\n",
    "      'logging_steps': 50,\n",
    "      'save_steps': 2000,  \n",
    "      'evaluate_during_training': True,\n",
    "      'overwrite_output_dir': True,\n",
    "      'reprocess_input_data': True,\n",
    "      'n_gpu': 2,\n",
    "      'use_multiprocessing': True,\n",
    "      'silent': False,\n",
    "      'threshold': 0.5,\n",
    "      \n",
    "      # for long texts     \n",
    "      'sliding_window': True,\n",
    "      'tie_value': 1}\n",
    "\n",
    "DATADIR = '../data/'"
   ]
  },
  {
   "cell_type": "code",
   "execution_count": null,
   "metadata": {},
   "outputs": [],
   "source": [
    "data_to_annotate = pd.read_csv(DATADIR + 'to-annotate.csv', header=0)"
   ]
  },
  {
   "cell_type": "code",
   "execution_count": null,
   "metadata": {},
   "outputs": [],
   "source": [
    "model = ClassificationModel('bert', 'outputs/final/radbert-binary/', args=args)\n",
    "pred, raw =  model.predict(data_to_annotate.text)   "
   ]
  },
  {
   "cell_type": "code",
   "execution_count": null,
   "metadata": {},
   "outputs": [],
   "source": [
    "preselected_data = data_to_annotate[pred == 1]"
   ]
  },
  {
   "cell_type": "code",
   "execution_count": null,
   "metadata": {},
   "outputs": [],
   "source": [
    "model = MultiLabelClassificationModel('bert', 'outputs/final/radbert/', args=args)\n",
    "pred, raw =  model.predict(preselected_data.text)   "
   ]
  },
  {
   "cell_type": "code",
   "execution_count": 112,
   "metadata": {},
   "outputs": [],
   "source": [
    "def write_out_annotations(raw, out_name):\n",
    "    annotated_data = pd.DataFrame(raw[0].mean(0)).transpose()\n",
    "    \n",
    "    for i in range(1, preselected_data.shape[0]):\n",
    "        annotated_data = annotated_data.append(pd.DataFrame(raw[i].mean(0)).transpose())\n",
    "\n",
    "    annotated_data = annotated_data.rename(columns={0: 'Stauung', 1: 'Verschattung', 2: 'Erguss', 3: 'Pneumothorax',\n",
    "                                                    4: 'Thoraxdrainage', 5: 'ZVK', 6: 'Magensonde', 7: 'Tubus', \n",
    "                                                    8: 'Materialfehllage'})\n",
    "    annotated_data['NameTextFile'] = list(preselected_data['NameTextFile'])\n",
    "    annotated_data['text'] = list(preselected_data['text'])\n",
    "    annotated_data['DicomPath'] = list(preselected_data['DicomPath'])\n",
    "\n",
    "    annotated_data.to_csv(DATADIR + out_name + \".csv\")"
   ]
  },
  {
   "cell_type": "code",
   "execution_count": 84,
   "metadata": {},
   "outputs": [],
   "source": [
    "write_out_annotations(raw, 'radbert-annotations')"
   ]
  },
  {
   "cell_type": "code",
   "execution_count": null,
   "metadata": {},
   "outputs": [],
   "source": [
    "model = MultiLabelClassificationModel('bert', 'outputs/final/gerbert/', args=args)\n",
    "pred, raw =  model.predict(preselected_data.text)   \n",
    "write_out_annotations(raw, 'gerbert-annotations')"
   ]
  },
  {
   "cell_type": "code",
   "execution_count": null,
   "metadata": {},
   "outputs": [],
   "source": [
    "model = MultiLabelClassificationModel('bert', 'outputs/final/multibert/', args=args)\n",
    "pred, raw =  model.predict(preselected_data.text)   \n",
    "write_out_annotations(raw, 'multibert-annotations')"
   ]
  },
  {
   "cell_type": "code",
   "execution_count": 3,
   "metadata": {},
   "outputs": [
    {
     "data": {
      "text/html": [
       "<div>\n",
       "<style scoped>\n",
       "    .dataframe tbody tr th:only-of-type {\n",
       "        vertical-align: middle;\n",
       "    }\n",
       "\n",
       "    .dataframe tbody tr th {\n",
       "        vertical-align: top;\n",
       "    }\n",
       "\n",
       "    .dataframe thead th {\n",
       "        text-align: right;\n",
       "    }\n",
       "</style>\n",
       "<table border=\"1\" class=\"dataframe\">\n",
       "  <thead>\n",
       "    <tr style=\"text-align: right;\">\n",
       "      <th></th>\n",
       "      <th>NameTextFile</th>\n",
       "      <th>DicomPath</th>\n",
       "      <th>Stauung</th>\n",
       "      <th>Verschattung</th>\n",
       "      <th>Erguss</th>\n",
       "      <th>Pneumothorax</th>\n",
       "      <th>Thoraxdrainage</th>\n",
       "      <th>ZVK</th>\n",
       "      <th>Magensonde</th>\n",
       "      <th>Tubus</th>\n",
       "      <th>Materialfehllage</th>\n",
       "      <th>text</th>\n",
       "    </tr>\n",
       "  </thead>\n",
       "  <tbody>\n",
       "    <tr>\n",
       "      <th>0</th>\n",
       "      <td>0001000799_0312830972_12133511_22683201.txt</td>\n",
       "      <td>12133511/0000/0000</td>\n",
       "      <td>NaN</td>\n",
       "      <td>NaN</td>\n",
       "      <td>NaN</td>\n",
       "      <td>NaN</td>\n",
       "      <td>NaN</td>\n",
       "      <td>NaN</td>\n",
       "      <td>NaN</td>\n",
       "      <td>NaN</td>\n",
       "      <td>NaN</td>\n",
       "      <td>llung, Rechtfertigende Indikation: Pat. mit ko...</td>\n",
       "    </tr>\n",
       "    <tr>\n",
       "      <th>1</th>\n",
       "      <td>0001002171_0310228483_10470316_20031561.txt</td>\n",
       "      <td>10470316/0000/0000</td>\n",
       "      <td>NaN</td>\n",
       "      <td>NaN</td>\n",
       "      <td>NaN</td>\n",
       "      <td>NaN</td>\n",
       "      <td>NaN</td>\n",
       "      <td>NaN</td>\n",
       "      <td>NaN</td>\n",
       "      <td>NaN</td>\n",
       "      <td>NaN</td>\n",
       "      <td>llung, Rechtfertigende Indikation: Bauchschmer...</td>\n",
       "    </tr>\n",
       "    <tr>\n",
       "      <th>2</th>\n",
       "      <td>0001002268_0310321531_10540364_20147483.txt</td>\n",
       "      <td>10540364/0000/0000</td>\n",
       "      <td>NaN</td>\n",
       "      <td>NaN</td>\n",
       "      <td>NaN</td>\n",
       "      <td>NaN</td>\n",
       "      <td>NaN</td>\n",
       "      <td>NaN</td>\n",
       "      <td>NaN</td>\n",
       "      <td>NaN</td>\n",
       "      <td>NaN</td>\n",
       "      <td>llung, Rechtfertigende Indikation: Zustand nac...</td>\n",
       "    </tr>\n",
       "    <tr>\n",
       "      <th>3</th>\n",
       "      <td>0001002595_0312428520_11864839_22251134.txt</td>\n",
       "      <td>11864839/0000/0000</td>\n",
       "      <td>NaN</td>\n",
       "      <td>NaN</td>\n",
       "      <td>NaN</td>\n",
       "      <td>NaN</td>\n",
       "      <td>NaN</td>\n",
       "      <td>NaN</td>\n",
       "      <td>NaN</td>\n",
       "      <td>NaN</td>\n",
       "      <td>NaN</td>\n",
       "      <td>tigende Indikation: Z.n. Reanimation. Frage na...</td>\n",
       "    </tr>\n",
       "    <tr>\n",
       "      <th>4</th>\n",
       "      <td>0001002735_0304289475_7127835_14187329.txt</td>\n",
       "      <td>7127835/0000/0000</td>\n",
       "      <td>NaN</td>\n",
       "      <td>NaN</td>\n",
       "      <td>NaN</td>\n",
       "      <td>NaN</td>\n",
       "      <td>NaN</td>\n",
       "      <td>NaN</td>\n",
       "      <td>NaN</td>\n",
       "      <td>NaN</td>\n",
       "      <td>NaN</td>\n",
       "      <td>Ausdehnung? Technik: HR-CT des Thorax nativ. K...</td>\n",
       "    </tr>\n",
       "    <tr>\n",
       "      <th>...</th>\n",
       "      <td>...</td>\n",
       "      <td>...</td>\n",
       "      <td>...</td>\n",
       "      <td>...</td>\n",
       "      <td>...</td>\n",
       "      <td>...</td>\n",
       "      <td>...</td>\n",
       "      <td>...</td>\n",
       "      <td>...</td>\n",
       "      <td>...</td>\n",
       "      <td>...</td>\n",
       "      <td>...</td>\n",
       "    </tr>\n",
       "    <tr>\n",
       "      <th>18657</th>\n",
       "      <td>0082690096_0305867914_7998082_15787002.txt</td>\n",
       "      <td>7998082/0000/0000</td>\n",
       "      <td>NaN</td>\n",
       "      <td>NaN</td>\n",
       "      <td>NaN</td>\n",
       "      <td>NaN</td>\n",
       "      <td>NaN</td>\n",
       "      <td>NaN</td>\n",
       "      <td>NaN</td>\n",
       "      <td>NaN</td>\n",
       "      <td>NaN</td>\n",
       "      <td>dchen mit V.a. offene TBC. Lobärpneumonie rech...</td>\n",
       "    </tr>\n",
       "    <tr>\n",
       "      <th>18658</th>\n",
       "      <td>0082756286_0312340482_11801188_22144392.txt</td>\n",
       "      <td>11801188/0000/0000</td>\n",
       "      <td>NaN</td>\n",
       "      <td>NaN</td>\n",
       "      <td>NaN</td>\n",
       "      <td>NaN</td>\n",
       "      <td>NaN</td>\n",
       "      <td>NaN</td>\n",
       "      <td>NaN</td>\n",
       "      <td>NaN</td>\n",
       "      <td>NaN</td>\n",
       "      <td>llung, rechtfertigende Indikation: CT zur Foku...</td>\n",
       "    </tr>\n",
       "    <tr>\n",
       "      <th>18659</th>\n",
       "      <td>0082756286_0312341470_11836507_22203468.txt</td>\n",
       "      <td>11836507/0000/0000</td>\n",
       "      <td>NaN</td>\n",
       "      <td>NaN</td>\n",
       "      <td>NaN</td>\n",
       "      <td>NaN</td>\n",
       "      <td>NaN</td>\n",
       "      <td>NaN</td>\n",
       "      <td>NaN</td>\n",
       "      <td>NaN</td>\n",
       "      <td>NaN</td>\n",
       "      <td>gestellung, rechtfertigende Indikation: Septis...</td>\n",
       "    </tr>\n",
       "    <tr>\n",
       "      <th>18660</th>\n",
       "      <td>0082758356_0305348219_7750807_15344192.txt</td>\n",
       "      <td>7750807/0000/0000</td>\n",
       "      <td>NaN</td>\n",
       "      <td>NaN</td>\n",
       "      <td>NaN</td>\n",
       "      <td>NaN</td>\n",
       "      <td>NaN</td>\n",
       "      <td>NaN</td>\n",
       "      <td>NaN</td>\n",
       "      <td>NaN</td>\n",
       "      <td>NaN</td>\n",
       "      <td>e vom 28.12.2010: Klinik: Z.n. NTx 2000. Aktue...</td>\n",
       "    </tr>\n",
       "    <tr>\n",
       "      <th>18661</th>\n",
       "      <td>0090236511_0306565419_8402553_16462116.txt</td>\n",
       "      <td>8402553/0000/0000</td>\n",
       "      <td>NaN</td>\n",
       "      <td>NaN</td>\n",
       "      <td>NaN</td>\n",
       "      <td>NaN</td>\n",
       "      <td>NaN</td>\n",
       "      <td>NaN</td>\n",
       "      <td>NaN</td>\n",
       "      <td>NaN</td>\n",
       "      <td>NaN</td>\n",
       "      <td>ezidivierende Hyponatriämien. Frage nach paran...</td>\n",
       "    </tr>\n",
       "  </tbody>\n",
       "</table>\n",
       "<p>18662 rows × 12 columns</p>\n",
       "</div>"
      ],
      "text/plain": [
       "                                      NameTextFile           DicomPath  \\\n",
       "0      0001000799_0312830972_12133511_22683201.txt  12133511/0000/0000   \n",
       "1      0001002171_0310228483_10470316_20031561.txt  10470316/0000/0000   \n",
       "2      0001002268_0310321531_10540364_20147483.txt  10540364/0000/0000   \n",
       "3      0001002595_0312428520_11864839_22251134.txt  11864839/0000/0000   \n",
       "4       0001002735_0304289475_7127835_14187329.txt   7127835/0000/0000   \n",
       "...                                            ...                 ...   \n",
       "18657   0082690096_0305867914_7998082_15787002.txt   7998082/0000/0000   \n",
       "18658  0082756286_0312340482_11801188_22144392.txt  11801188/0000/0000   \n",
       "18659  0082756286_0312341470_11836507_22203468.txt  11836507/0000/0000   \n",
       "18660   0082758356_0305348219_7750807_15344192.txt   7750807/0000/0000   \n",
       "18661   0090236511_0306565419_8402553_16462116.txt   8402553/0000/0000   \n",
       "\n",
       "       Stauung  Verschattung  Erguss  Pneumothorax  Thoraxdrainage  ZVK  \\\n",
       "0          NaN           NaN     NaN           NaN             NaN  NaN   \n",
       "1          NaN           NaN     NaN           NaN             NaN  NaN   \n",
       "2          NaN           NaN     NaN           NaN             NaN  NaN   \n",
       "3          NaN           NaN     NaN           NaN             NaN  NaN   \n",
       "4          NaN           NaN     NaN           NaN             NaN  NaN   \n",
       "...        ...           ...     ...           ...             ...  ...   \n",
       "18657      NaN           NaN     NaN           NaN             NaN  NaN   \n",
       "18658      NaN           NaN     NaN           NaN             NaN  NaN   \n",
       "18659      NaN           NaN     NaN           NaN             NaN  NaN   \n",
       "18660      NaN           NaN     NaN           NaN             NaN  NaN   \n",
       "18661      NaN           NaN     NaN           NaN             NaN  NaN   \n",
       "\n",
       "       Magensonde  Tubus  Materialfehllage  \\\n",
       "0             NaN    NaN               NaN   \n",
       "1             NaN    NaN               NaN   \n",
       "2             NaN    NaN               NaN   \n",
       "3             NaN    NaN               NaN   \n",
       "4             NaN    NaN               NaN   \n",
       "...           ...    ...               ...   \n",
       "18657         NaN    NaN               NaN   \n",
       "18658         NaN    NaN               NaN   \n",
       "18659         NaN    NaN               NaN   \n",
       "18660         NaN    NaN               NaN   \n",
       "18661         NaN    NaN               NaN   \n",
       "\n",
       "                                                    text  \n",
       "0      llung, Rechtfertigende Indikation: Pat. mit ko...  \n",
       "1      llung, Rechtfertigende Indikation: Bauchschmer...  \n",
       "2      llung, Rechtfertigende Indikation: Zustand nac...  \n",
       "3      tigende Indikation: Z.n. Reanimation. Frage na...  \n",
       "4      Ausdehnung? Technik: HR-CT des Thorax nativ. K...  \n",
       "...                                                  ...  \n",
       "18657  dchen mit V.a. offene TBC. Lobärpneumonie rech...  \n",
       "18658  llung, rechtfertigende Indikation: CT zur Foku...  \n",
       "18659  gestellung, rechtfertigende Indikation: Septis...  \n",
       "18660  e vom 28.12.2010: Klinik: Z.n. NTx 2000. Aktue...  \n",
       "18661  ezidivierende Hyponatriämien. Frage nach paran...  \n",
       "\n",
       "[18662 rows x 12 columns]"
      ]
     },
     "execution_count": 3,
     "metadata": {},
     "output_type": "execute_result"
    }
   ],
   "source": [
    "data_to_annotate = pd.read_csv(DATADIR + 'ct-to-annotate.csv', header=0)\n",
    "preselected_data = data_to_annotate # no preselection\n",
    "data_to_annotate"
   ]
  },
  {
   "cell_type": "code",
   "execution_count": 6,
   "metadata": {},
   "outputs": [
    {
     "name": "stdout",
     "output_type": "stream",
     "text": [
      "Converting to features started. Cache is not used.\n",
      "sliding_window enabled\n"
     ]
    },
    {
     "data": {
      "application/vnd.jupyter.widget-view+json": {
       "model_id": "254c26a8be6f4fac9740ed5c5ad673d5",
       "version_major": 2,
       "version_minor": 0
      },
      "text/plain": [
       "HBox(children=(FloatProgress(value=0.0, max=18662.0), HTML(value='')))"
      ]
     },
     "metadata": {},
     "output_type": "display_data"
    },
    {
     "name": "stdout",
     "output_type": "stream",
     "text": [
      "\n",
      "18662 features created from 18662 samples.\n"
     ]
    },
    {
     "data": {
      "application/vnd.jupyter.widget-view+json": {
       "model_id": "733d7b9a4bdf47f8b406e4cddc941cb1",
       "version_major": 2,
       "version_minor": 0
      },
      "text/plain": [
       "HBox(children=(FloatProgress(value=0.0, max=1845.0), HTML(value='')))"
      ]
     },
     "metadata": {},
     "output_type": "display_data"
    },
    {
     "name": "stdout",
     "output_type": "stream",
     "text": [
      "\n"
     ]
    }
   ],
   "source": [
    "model = ClassificationModel('bert', 'outputs/final/radbert/', args=args)\n",
    "pred, raw =  model.predict(data_to_annotate.text)   "
   ]
  },
  {
   "cell_type": "code",
   "execution_count": 85,
   "metadata": {},
   "outputs": [],
   "source": [
    "write_out_annotations(raw, 'radbert-ct-annotations')"
   ]
  },
  {
   "cell_type": "code",
   "execution_count": null,
   "metadata": {},
   "outputs": [],
   "source": [
    "model = ClassificationModel('bert', 'outputs/final/gerbert/', args=args)\n",
    "pred, raw =  model.predict(data_to_annotate.text)   "
   ]
  },
  {
   "cell_type": "code",
   "execution_count": 113,
   "metadata": {},
   "outputs": [],
   "source": [
    "write_out_annotations(raw, 'ct-gerbert-annotations')"
   ]
  },
  {
   "cell_type": "code",
   "execution_count": null,
   "metadata": {},
   "outputs": [],
   "source": [
    "model = ClassificationModel('bert', 'outputs/final/multibert/', args=args)\n",
    "pred_multi, raw_multi =  model.predict(data_to_annotate.text)   \n"
   ]
  },
  {
   "cell_type": "code",
   "execution_count": 114,
   "metadata": {},
   "outputs": [],
   "source": [
    "write_out_annotations(raw_multi, 'ct-multibert-annotations')"
   ]
  }
 ],
 "metadata": {
  "kernelspec": {
   "display_name": "fast-bert",
   "language": "python",
   "name": "fast-bert"
  },
  "language_info": {
   "codemirror_mode": {
    "name": "ipython",
    "version": 3
   },
   "file_extension": ".py",
   "mimetype": "text/x-python",
   "name": "python",
   "nbconvert_exporter": "python",
   "pygments_lexer": "ipython3",
   "version": "3.7.5"
  }
 },
 "nbformat": 4,
 "nbformat_minor": 4
}

{
 "cells": [
  {
   "cell_type": "markdown",
   "metadata": {},
   "source": [
    "# Building a custom vocabulary for BERT\n",
    "https://github.com/kwonmha/bert-vocab-builder\n",
    "\n",
    "In order to achieve good results on domain-specific datasets, BERT has to be pre-trained to enable a better understanding. Having a look at the vocabulary from the German BERT-Base model by deepset.ai, there are 'only' 30000 vocabulary words (of which 3001 are unused), while some of the most frequent vocabulary from medical texts is absent. For example:\n",
    "\n",
    "| German Word | English Translation  |\n",
    "|-------------|----------------------|\n",
    "|Pneumothorax | pneumothorax         |\n",
    "|Erguss       | effusion             |\n",
    "|Infiltrat    | infiltrate           |\n",
    "|Dystelektase | dystelectasis        |\n",
    "| ...         | ...                  |\n",
    "\n",
    "\n",
    "Google's research does not provide tools to create a custom vocabulary, however [this](https://github.com/kwonmha/bert-vocab-builder) Github repository of [kwonmha](https://github.com/kwonmha) does. In order to use the scripts, they have been downloaded into the folder `bert-vocab-builder`. \n",
    "\n",
    "The vocabulary can be build via the following bash-command: \n",
    "\n",
    "```bash\n",
    "python subword_builder.py \\\n",
    "--corpus_filepattern {corpus_for_vocab} \\\n",
    "--output_filename {name_of_vocab}\n",
    "--min_count {minimum_subtoken_counts}\n",
    "```\n",
    "\n",
    "To define a reasonable mininum subtoken count, we proceeded as follows: \n",
    "In a [previous notebook](https://github.com/kbressem/bert-for-radiology/blob/master/pretraining/sentencizing.ipynb), the word frequency was counted in all text-reports and then put into a .json file. This shows the frequency of specific words, enabling the definition of a reasonable threshold.  "
   ]
  },
  {
   "cell_type": "markdown",
   "metadata": {},
   "source": [
    "## Initializing the enviroment\n",
    "\n",
    "```bash\n",
    "conda create --name=bert-vocab tensorflow\n",
    "conda activate bert-vocab\n",
    "conda install ipykernel spacy\n",
    "ipython kernel install --user --name=bert-vocab\n",
    "```"
   ]
  },
  {
   "cell_type": "markdown",
   "metadata": {},
   "source": [
    "## Importing the .json file\n",
    "Since we work with very sensible data, neither the original text nor the .json file can be uploaded, as a small risk remains that a patient name could be mentioned somewhere in a report text. "
   ]
  },
  {
   "cell_type": "code",
   "execution_count": 1,
   "metadata": {},
   "outputs": [],
   "source": [
    "import json\n",
    "from collections import OrderedDict\n",
    "\n",
    "with open('../data/word-count-report-dump.json') as json_file:\n",
    "    wordcount = json.load(json_file)"
   ]
  },
  {
   "cell_type": "code",
   "execution_count": 6,
   "metadata": {},
   "outputs": [],
   "source": [
    "def sortSecond(val): \n",
    "    return val[1]  \n",
    "\n",
    "wordcount['__individual count__'].sort(key = sortSecond, reverse = True)"
   ]
  },
  {
   "cell_type": "code",
   "execution_count": 7,
   "metadata": {},
   "outputs": [],
   "source": [
    "GREATER_THAN = 1000\n",
    "\n",
    "wordcount_greater = []\n",
    "for i in wordcount['__individual count__']:\n",
    "    if i[1] > GREATER_THAN:\n",
    "        wordcount_greater.append(i)"
   ]
  },
  {
   "cell_type": "code",
   "execution_count": 8,
   "metadata": {},
   "outputs": [
    {
     "data": {
      "text/plain": [
       "23783"
      ]
     },
     "execution_count": 8,
     "metadata": {},
     "output_type": "execute_result"
    }
   ],
   "source": [
    "wordcount_greater.sort(key = sortSecond, reverse = False)\n",
    "len(wordcount_greater)"
   ]
  },
  {
   "cell_type": "markdown",
   "metadata": {},
   "source": [
    "I would suggest to set `--min_count` to 5000. "
   ]
  },
  {
   "cell_type": "markdown",
   "metadata": {},
   "source": [
    "## Generation of a  custom vocabulary\n",
    "\n",
    "Installing spaCy and tensorflow automaticall downgrades tensorflow to version 1.13.1. Although the code to create the custom vocabulary is based on tensorflow 1.11, it currently works: \n",
    "\n",
    "```bash\n",
    "python subword_builder.py \\\n",
    "    --corpus_filepattern '../../data/report-dump.raw' \\\n",
    "    --output_filename '../../pretraining/vocab-bert.txt' \\\n",
    "    --min_count 5000\n",
    "```"
   ]
  }
 ],
 "metadata": {
  "kernelspec": {
   "display_name": "bert-vocab",
   "language": "python",
   "name": "bert-vocab"
  },
  "language_info": {
   "codemirror_mode": {
    "name": "ipython",
    "version": 3
   },
   "file_extension": ".py",
   "mimetype": "text/x-python",
   "name": "python",
   "nbconvert_exporter": "python",
   "pygments_lexer": "ipython3",
   "version": "3.7.5"
  }
 },
 "nbformat": 4,
 "nbformat_minor": 4
}
